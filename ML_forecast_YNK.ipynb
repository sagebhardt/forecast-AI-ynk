{
 "cells": [
  {
   "attachments": {},
   "cell_type": "markdown",
   "metadata": {},
   "source": [
    "# YNK forecast\n",
    "\n",
    "## Import data"
   ]
  },
  {
   "cell_type": "code",
   "execution_count": 57,
   "metadata": {},
   "outputs": [],
   "source": [
    "import pandas as pd\n",
    "import numpy as np\n",
    "from datetime import datetime\n",
    "import statsmodels.formula.api as smf\n",
    "import statsmodels.api as sm\n",
    "from sklearn.metrics import roc_auc_score, roc_curve,auc\n",
    "from sklearn.tree import DecisionTreeClassifier, plot_tree\n",
    "from sklearn.linear_model import LogisticRegression \n",
    "from sklearn.model_selection import KFold\n",
    "from sklearn.model_selection import GridSearchCV\n",
    "from sklearn.linear_model import Lasso\n",
    "import matplotlib.pyplot as plt\n",
    "import seaborn as sns; sns.set(style='whitegrid')\n",
    "from sklearn.ensemble import GradientBoostingClassifier\n",
    "import xgboost as xgb\n",
    "from catboost import CatBoostClassifier\n",
    "from warnings import simplefilter\n",
    "simplefilter(action=\"ignore\", category=pd.errors.PerformanceWarning)"
   ]
  },
  {
   "cell_type": "code",
   "execution_count": 51,
   "metadata": {},
   "outputs": [
    {
     "name": "stdout",
     "output_type": "stream",
     "text": [
      "(54531, 11)\n"
     ]
    },
    {
     "name": "stderr",
     "output_type": "stream",
     "text": [
      "/var/folders/7n/r8rrh9ss6q9b_lyhlmx1x_hw0000gn/T/ipykernel_86404/173362198.py:8: FutureWarning: The default value of regex will change from True to False in a future version. In addition, single character regular expressions will *not* be treated as literal strings when regex=True.\n",
      "  df.columns = df.columns.str.replace('$', '')\n"
     ]
    },
    {
     "data": {
      "text/html": [
       "<div>\n",
       "<style scoped>\n",
       "    .dataframe tbody tr th:only-of-type {\n",
       "        vertical-align: middle;\n",
       "    }\n",
       "\n",
       "    .dataframe tbody tr th {\n",
       "        vertical-align: top;\n",
       "    }\n",
       "\n",
       "    .dataframe thead th {\n",
       "        text-align: right;\n",
       "    }\n",
       "</style>\n",
       "<table border=\"1\" class=\"dataframe\">\n",
       "  <thead>\n",
       "    <tr style=\"text-align: right;\">\n",
       "      <th></th>\n",
       "      <th>Semana</th>\n",
       "      <th>Tienda</th>\n",
       "      <th>Tipo mat</th>\n",
       "      <th>Grupo articulos</th>\n",
       "      <th>Sexo</th>\n",
       "      <th>Age Group</th>\n",
       "      <th>Entradas Tienda</th>\n",
       "      <th>Venta U</th>\n",
       "      <th>Venta Bruta</th>\n",
       "      <th>Costo Neto</th>\n",
       "      <th>Stock</th>\n",
       "    </tr>\n",
       "  </thead>\n",
       "  <tbody>\n",
       "    <tr>\n",
       "      <th>0</th>\n",
       "      <td>W01</td>\n",
       "      <td>01-Ahumada</td>\n",
       "      <td>ZAPP</td>\n",
       "      <td>AD</td>\n",
       "      <td>Male</td>\n",
       "      <td>Adult</td>\n",
       "      <td>6857</td>\n",
       "      <td>2</td>\n",
       "      <td>46790</td>\n",
       "      <td>23194</td>\n",
       "      <td>89.0</td>\n",
       "    </tr>\n",
       "    <tr>\n",
       "      <th>1</th>\n",
       "      <td>W01</td>\n",
       "      <td>01-Ahumada</td>\n",
       "      <td>ZAPP</td>\n",
       "      <td>NI</td>\n",
       "      <td>Female</td>\n",
       "      <td>Adult</td>\n",
       "      <td>6857</td>\n",
       "      <td>1</td>\n",
       "      <td>26990</td>\n",
       "      <td>12520</td>\n",
       "      <td>118.0</td>\n",
       "    </tr>\n",
       "    <tr>\n",
       "      <th>2</th>\n",
       "      <td>W01</td>\n",
       "      <td>01-Ahumada</td>\n",
       "      <td>ZAPP</td>\n",
       "      <td>NI</td>\n",
       "      <td>Female</td>\n",
       "      <td>Pre School + Grade School</td>\n",
       "      <td>6857</td>\n",
       "      <td>3</td>\n",
       "      <td>73680</td>\n",
       "      <td>34777</td>\n",
       "      <td>18.0</td>\n",
       "    </tr>\n",
       "    <tr>\n",
       "      <th>3</th>\n",
       "      <td>W01</td>\n",
       "      <td>01-Ahumada</td>\n",
       "      <td>ZAPP</td>\n",
       "      <td>NI</td>\n",
       "      <td>Male</td>\n",
       "      <td>Adult</td>\n",
       "      <td>6857</td>\n",
       "      <td>19</td>\n",
       "      <td>593950</td>\n",
       "      <td>285666</td>\n",
       "      <td>270.0</td>\n",
       "    </tr>\n",
       "    <tr>\n",
       "      <th>4</th>\n",
       "      <td>W01</td>\n",
       "      <td>01-Ahumada</td>\n",
       "      <td>ZAPP</td>\n",
       "      <td>NI</td>\n",
       "      <td>Male</td>\n",
       "      <td>Grade School</td>\n",
       "      <td>6857</td>\n",
       "      <td>2</td>\n",
       "      <td>38980</td>\n",
       "      <td>18083</td>\n",
       "      <td>136.0</td>\n",
       "    </tr>\n",
       "  </tbody>\n",
       "</table>\n",
       "</div>"
      ],
      "text/plain": [
       "  Semana      Tienda Tipo mat Grupo articulos    Sexo  \\\n",
       "0    W01  01-Ahumada     ZAPP              AD    Male   \n",
       "1    W01  01-Ahumada     ZAPP              NI  Female   \n",
       "2    W01  01-Ahumada     ZAPP              NI  Female   \n",
       "3    W01  01-Ahumada     ZAPP              NI    Male   \n",
       "4    W01  01-Ahumada     ZAPP              NI    Male   \n",
       "\n",
       "                   Age Group  Entradas Tienda  Venta U  Venta Bruta   \\\n",
       "0                      Adult             6857        2         46790   \n",
       "1                      Adult             6857        1         26990   \n",
       "2  Pre School + Grade School             6857        3         73680   \n",
       "3                      Adult             6857       19        593950   \n",
       "4               Grade School             6857        2         38980   \n",
       "\n",
       "   Costo Neto   Stock  \n",
       "0        23194   89.0  \n",
       "1        12520  118.0  \n",
       "2        34777   18.0  \n",
       "3       285666  270.0  \n",
       "4        18083  136.0  "
      ]
     },
     "execution_count": 51,
     "metadata": {},
     "output_type": "execute_result"
    }
   ],
   "source": [
    "# Import data in csv from github\n",
    "\n",
    "# Import data from github\n",
    "url = 'https://raw.githubusercontent.com/sagebhardt/forecast-AI-ynk/main/Base%20Analisis%20-%20Prueba%2001.1%20Forecasting%20en%20Belsport%20(Venta%20y%20Stock%20por%20marca%20y%20catergoria).csv'\n",
    "df = pd.read_csv(url, sep=';')\n",
    "\n",
    "# Remove '$' from column names\n",
    "df.columns = df.columns.str.replace('$', '')\n",
    "\n",
    "#print df size\n",
    "print(df.shape)\n",
    "\n",
    "df.head()"
   ]
  },
  {
   "attachments": {},
   "cell_type": "markdown",
   "metadata": {},
   "source": [
    "## Clean data  "
   ]
  },
  {
   "cell_type": "code",
   "execution_count": 52,
   "metadata": {},
   "outputs": [
    {
     "data": {
      "text/plain": [
       "Semana                 0\n",
       "Tienda                 0\n",
       "Tipo mat               0\n",
       "Grupo articulos        0\n",
       "Sexo                1389\n",
       "Age Group           1793\n",
       "Entradas Tienda        0\n",
       "Venta U                0\n",
       "Venta Bruta            0\n",
       "Costo Neto             0\n",
       "Stock              16906\n",
       "dtype: int64"
      ]
     },
     "execution_count": 52,
     "metadata": {},
     "output_type": "execute_result"
    }
   ],
   "source": [
    "#check for missing values\n",
    "df.isnull().sum()"
   ]
  },
  {
   "cell_type": "code",
   "execution_count": 53,
   "metadata": {},
   "outputs": [
    {
     "name": "stdout",
     "output_type": "stream",
     "text": [
      "Index(['Semana', 'Tienda', 'Tipo mat', 'Grupo articulos', 'Sexo', 'Age Group'], dtype='object')\n",
      "Index(['Entradas Tienda', 'Venta U', 'Venta Bruta ', 'Costo Neto ', 'Stock'], dtype='object')\n"
     ]
    }
   ],
   "source": [
    "#split features into categorical and numerical\n",
    "categorical_features = df.select_dtypes(include=['object']).columns\n",
    "numerical_features = df.select_dtypes(exclude=['object']).columns\n",
    "\n",
    "print(categorical_features)\n",
    "print(numerical_features)"
   ]
  },
  {
   "cell_type": "code",
   "execution_count": 46,
   "metadata": {},
   "outputs": [
    {
     "name": "stdout",
     "output_type": "stream",
     "text": [
      "(54531, 121)\n"
     ]
    },
    {
     "name": "stderr",
     "output_type": "stream",
     "text": [
      "/Users/sebage/opt/anaconda3/envs/cv/lib/python3.10/site-packages/sklearn/impute/_base.py:382: FutureWarning: The 'verbose' parameter was deprecated in version 1.1 and will be removed in 1.3. A warning will always be raised upon the removal of empty columns in the future version.\n",
      "  warnings.warn(\n"
     ]
    },
    {
     "data": {
      "text/html": [
       "<div>\n",
       "<style scoped>\n",
       "    .dataframe tbody tr th:only-of-type {\n",
       "        vertical-align: middle;\n",
       "    }\n",
       "\n",
       "    .dataframe tbody tr th {\n",
       "        vertical-align: top;\n",
       "    }\n",
       "\n",
       "    .dataframe thead th {\n",
       "        text-align: right;\n",
       "    }\n",
       "</style>\n",
       "<table border=\"1\" class=\"dataframe\">\n",
       "  <thead>\n",
       "    <tr style=\"text-align: right;\">\n",
       "      <th></th>\n",
       "      <th>Entradas Tienda</th>\n",
       "      <th>Venta U</th>\n",
       "      <th>Venta Bruta</th>\n",
       "      <th>Costo Neto</th>\n",
       "      <th>Stock</th>\n",
       "      <th>Semana_W02</th>\n",
       "      <th>Semana_W03</th>\n",
       "      <th>Semana_W04</th>\n",
       "      <th>Semana_W05</th>\n",
       "      <th>Semana_W06</th>\n",
       "      <th>...</th>\n",
       "      <th>Sexo_Male</th>\n",
       "      <th>Sexo_Unisex</th>\n",
       "      <th>Sexo_nan</th>\n",
       "      <th>Age Group_Adult</th>\n",
       "      <th>Age Group_Full Family</th>\n",
       "      <th>Age Group_Grade School</th>\n",
       "      <th>Age Group_Pre School</th>\n",
       "      <th>Age Group_Pre School + Grade School</th>\n",
       "      <th>Age Group_Toddler</th>\n",
       "      <th>Age Group_nan</th>\n",
       "    </tr>\n",
       "  </thead>\n",
       "  <tbody>\n",
       "    <tr>\n",
       "      <th>0</th>\n",
       "      <td>6857.0</td>\n",
       "      <td>2.0</td>\n",
       "      <td>46790.0</td>\n",
       "      <td>23194.0</td>\n",
       "      <td>89.0</td>\n",
       "      <td>0</td>\n",
       "      <td>0</td>\n",
       "      <td>0</td>\n",
       "      <td>0</td>\n",
       "      <td>0</td>\n",
       "      <td>...</td>\n",
       "      <td>1</td>\n",
       "      <td>0</td>\n",
       "      <td>0</td>\n",
       "      <td>1</td>\n",
       "      <td>0</td>\n",
       "      <td>0</td>\n",
       "      <td>0</td>\n",
       "      <td>0</td>\n",
       "      <td>0</td>\n",
       "      <td>0</td>\n",
       "    </tr>\n",
       "    <tr>\n",
       "      <th>1</th>\n",
       "      <td>6857.0</td>\n",
       "      <td>1.0</td>\n",
       "      <td>26990.0</td>\n",
       "      <td>12520.0</td>\n",
       "      <td>118.0</td>\n",
       "      <td>0</td>\n",
       "      <td>0</td>\n",
       "      <td>0</td>\n",
       "      <td>0</td>\n",
       "      <td>0</td>\n",
       "      <td>...</td>\n",
       "      <td>0</td>\n",
       "      <td>0</td>\n",
       "      <td>0</td>\n",
       "      <td>1</td>\n",
       "      <td>0</td>\n",
       "      <td>0</td>\n",
       "      <td>0</td>\n",
       "      <td>0</td>\n",
       "      <td>0</td>\n",
       "      <td>0</td>\n",
       "    </tr>\n",
       "    <tr>\n",
       "      <th>2</th>\n",
       "      <td>6857.0</td>\n",
       "      <td>3.0</td>\n",
       "      <td>73680.0</td>\n",
       "      <td>34777.0</td>\n",
       "      <td>18.0</td>\n",
       "      <td>0</td>\n",
       "      <td>0</td>\n",
       "      <td>0</td>\n",
       "      <td>0</td>\n",
       "      <td>0</td>\n",
       "      <td>...</td>\n",
       "      <td>0</td>\n",
       "      <td>0</td>\n",
       "      <td>0</td>\n",
       "      <td>0</td>\n",
       "      <td>0</td>\n",
       "      <td>0</td>\n",
       "      <td>0</td>\n",
       "      <td>1</td>\n",
       "      <td>0</td>\n",
       "      <td>0</td>\n",
       "    </tr>\n",
       "    <tr>\n",
       "      <th>3</th>\n",
       "      <td>6857.0</td>\n",
       "      <td>19.0</td>\n",
       "      <td>593950.0</td>\n",
       "      <td>285666.0</td>\n",
       "      <td>270.0</td>\n",
       "      <td>0</td>\n",
       "      <td>0</td>\n",
       "      <td>0</td>\n",
       "      <td>0</td>\n",
       "      <td>0</td>\n",
       "      <td>...</td>\n",
       "      <td>1</td>\n",
       "      <td>0</td>\n",
       "      <td>0</td>\n",
       "      <td>1</td>\n",
       "      <td>0</td>\n",
       "      <td>0</td>\n",
       "      <td>0</td>\n",
       "      <td>0</td>\n",
       "      <td>0</td>\n",
       "      <td>0</td>\n",
       "    </tr>\n",
       "    <tr>\n",
       "      <th>4</th>\n",
       "      <td>6857.0</td>\n",
       "      <td>2.0</td>\n",
       "      <td>38980.0</td>\n",
       "      <td>18083.0</td>\n",
       "      <td>136.0</td>\n",
       "      <td>0</td>\n",
       "      <td>0</td>\n",
       "      <td>0</td>\n",
       "      <td>0</td>\n",
       "      <td>0</td>\n",
       "      <td>...</td>\n",
       "      <td>1</td>\n",
       "      <td>0</td>\n",
       "      <td>0</td>\n",
       "      <td>0</td>\n",
       "      <td>0</td>\n",
       "      <td>1</td>\n",
       "      <td>0</td>\n",
       "      <td>0</td>\n",
       "      <td>0</td>\n",
       "      <td>0</td>\n",
       "    </tr>\n",
       "  </tbody>\n",
       "</table>\n",
       "<p>5 rows × 121 columns</p>\n",
       "</div>"
      ],
      "text/plain": [
       "   Entradas Tienda  Venta U  Venta Bruta   Costo Neto   Stock  Semana_W02  \\\n",
       "0           6857.0      2.0       46790.0      23194.0   89.0           0   \n",
       "1           6857.0      1.0       26990.0      12520.0  118.0           0   \n",
       "2           6857.0      3.0       73680.0      34777.0   18.0           0   \n",
       "3           6857.0     19.0      593950.0     285666.0  270.0           0   \n",
       "4           6857.0      2.0       38980.0      18083.0  136.0           0   \n",
       "\n",
       "   Semana_W03  Semana_W04  Semana_W05  Semana_W06  ...  Sexo_Male  \\\n",
       "0           0           0           0           0  ...          1   \n",
       "1           0           0           0           0  ...          0   \n",
       "2           0           0           0           0  ...          0   \n",
       "3           0           0           0           0  ...          1   \n",
       "4           0           0           0           0  ...          1   \n",
       "\n",
       "   Sexo_Unisex  Sexo_nan  Age Group_Adult  Age Group_Full Family  \\\n",
       "0            0         0                1                      0   \n",
       "1            0         0                1                      0   \n",
       "2            0         0                0                      0   \n",
       "3            0         0                1                      0   \n",
       "4            0         0                0                      0   \n",
       "\n",
       "   Age Group_Grade School  Age Group_Pre School  \\\n",
       "0                       0                     0   \n",
       "1                       0                     0   \n",
       "2                       0                     0   \n",
       "3                       0                     0   \n",
       "4                       1                     0   \n",
       "\n",
       "   Age Group_Pre School + Grade School  Age Group_Toddler  Age Group_nan  \n",
       "0                                    0                  0              0  \n",
       "1                                    0                  0              0  \n",
       "2                                    1                  0              0  \n",
       "3                                    0                  0              0  \n",
       "4                                    0                  0              0  \n",
       "\n",
       "[5 rows x 121 columns]"
      ]
     },
     "execution_count": 46,
     "metadata": {},
     "output_type": "execute_result"
    }
   ],
   "source": [
    "df_cat = pd.get_dummies(df[categorical_features], drop_first = True, dummy_na = True)\n",
    "df_num = df[numerical_features]\n",
    "\n",
    "from sklearn.impute import SimpleImputer\n",
    "imp_num = SimpleImputer(missing_values=np.nan, strategy='constant', fill_value=0, verbose=1, copy=True)\n",
    "imp_num.fit(df_num)\n",
    "df_num = pd.DataFrame(imp_num.transform(df_num), columns = df_num.columns)\n",
    "\n",
    "df_binned = pd.concat([df_num, df_cat], axis = 1)\n",
    "\n",
    "print(df_binned.shape)\n",
    "\n",
    "df_binned.head()"
   ]
  },
  {
   "cell_type": "code",
   "execution_count": 55,
   "metadata": {},
   "outputs": [],
   "source": [
    "#Get features and target\n",
    "y = df_binned['Venta Bruta ']\n",
    "X = df_binned.drop(['Venta Bruta ', 'Venta U', 'Costo Neto '], axis = 1)\n",
    "\n",
    "features = X.columns\n"
   ]
  },
  {
   "attachments": {},
   "cell_type": "markdown",
   "metadata": {},
   "source": [
    "## Test Models"
   ]
  },
  {
   "attachments": {},
   "cell_type": "markdown",
   "metadata": {},
   "source": [
    "## 5-Fold Cross Validation"
   ]
  },
  {
   "cell_type": "code",
   "execution_count": 58,
   "metadata": {},
   "outputs": [
    {
     "ename": "KeyboardInterrupt",
     "evalue": "",
     "output_type": "error",
     "traceback": [
      "\u001b[0;31m---------------------------------------------------------------------------\u001b[0m",
      "\u001b[0;31mKeyboardInterrupt\u001b[0m                         Traceback (most recent call last)",
      "Cell \u001b[0;32mIn[58], line 23\u001b[0m\n\u001b[1;32m     21\u001b[0m \u001b[39m# GBM Model\u001b[39;00m\n\u001b[1;32m     22\u001b[0m modelGBM \u001b[39m=\u001b[39m GradientBoostingClassifier(n_estimators\u001b[39m=\u001b[39m\u001b[39m154\u001b[39m) \u001b[39m#n_estimators denotes the number of trees that are constructed 155\u001b[39;00m\n\u001b[0;32m---> 23\u001b[0m GBtrain_cv \u001b[39m=\u001b[39m modelGBM\u001b[39m.\u001b[39;49mfit(train_cv\u001b[39m.\u001b[39;49mloc[:,features],train_cv[\u001b[39m'\u001b[39;49m\u001b[39mVenta Bruta \u001b[39;49m\u001b[39m'\u001b[39;49m])\n\u001b[1;32m     24\u001b[0m validProbsGB_cv  \u001b[39m=\u001b[39m GBtrain_cv\u001b[39m.\u001b[39mpredict(valid_cv\u001b[39m.\u001b[39mloc[:,features])[:,\u001b[39m1\u001b[39m]\n\u001b[1;32m     25\u001b[0m RMSEList\u001b[39m.\u001b[39mGBM_RMSE[i]\u001b[39m=\u001b[39m rmse(valid_cv[\u001b[39m'\u001b[39m\u001b[39mVenta Bruta \u001b[39m\u001b[39m'\u001b[39m], validProbsGB_cv)  \n",
      "File \u001b[0;32m~/opt/anaconda3/envs/cv/lib/python3.10/site-packages/sklearn/ensemble/_gb.py:538\u001b[0m, in \u001b[0;36mBaseGradientBoosting.fit\u001b[0;34m(self, X, y, sample_weight, monitor)\u001b[0m\n\u001b[1;32m    535\u001b[0m     \u001b[39mself\u001b[39m\u001b[39m.\u001b[39m_resize_state()\n\u001b[1;32m    537\u001b[0m \u001b[39m# fit the boosting stages\u001b[39;00m\n\u001b[0;32m--> 538\u001b[0m n_stages \u001b[39m=\u001b[39m \u001b[39mself\u001b[39;49m\u001b[39m.\u001b[39;49m_fit_stages(\n\u001b[1;32m    539\u001b[0m     X,\n\u001b[1;32m    540\u001b[0m     y,\n\u001b[1;32m    541\u001b[0m     raw_predictions,\n\u001b[1;32m    542\u001b[0m     sample_weight,\n\u001b[1;32m    543\u001b[0m     \u001b[39mself\u001b[39;49m\u001b[39m.\u001b[39;49m_rng,\n\u001b[1;32m    544\u001b[0m     X_val,\n\u001b[1;32m    545\u001b[0m     y_val,\n\u001b[1;32m    546\u001b[0m     sample_weight_val,\n\u001b[1;32m    547\u001b[0m     begin_at_stage,\n\u001b[1;32m    548\u001b[0m     monitor,\n\u001b[1;32m    549\u001b[0m )\n\u001b[1;32m    551\u001b[0m \u001b[39m# change shape of arrays after fit (early-stopping or additional ests)\u001b[39;00m\n\u001b[1;32m    552\u001b[0m \u001b[39mif\u001b[39;00m n_stages \u001b[39m!=\u001b[39m \u001b[39mself\u001b[39m\u001b[39m.\u001b[39mestimators_\u001b[39m.\u001b[39mshape[\u001b[39m0\u001b[39m]:\n",
      "File \u001b[0;32m~/opt/anaconda3/envs/cv/lib/python3.10/site-packages/sklearn/ensemble/_gb.py:615\u001b[0m, in \u001b[0;36mBaseGradientBoosting._fit_stages\u001b[0;34m(self, X, y, raw_predictions, sample_weight, random_state, X_val, y_val, sample_weight_val, begin_at_stage, monitor)\u001b[0m\n\u001b[1;32m    608\u001b[0m     old_oob_score \u001b[39m=\u001b[39m loss_(\n\u001b[1;32m    609\u001b[0m         y[\u001b[39m~\u001b[39msample_mask],\n\u001b[1;32m    610\u001b[0m         raw_predictions[\u001b[39m~\u001b[39msample_mask],\n\u001b[1;32m    611\u001b[0m         sample_weight[\u001b[39m~\u001b[39msample_mask],\n\u001b[1;32m    612\u001b[0m     )\n\u001b[1;32m    614\u001b[0m \u001b[39m# fit next stage of trees\u001b[39;00m\n\u001b[0;32m--> 615\u001b[0m raw_predictions \u001b[39m=\u001b[39m \u001b[39mself\u001b[39;49m\u001b[39m.\u001b[39;49m_fit_stage(\n\u001b[1;32m    616\u001b[0m     i,\n\u001b[1;32m    617\u001b[0m     X,\n\u001b[1;32m    618\u001b[0m     y,\n\u001b[1;32m    619\u001b[0m     raw_predictions,\n\u001b[1;32m    620\u001b[0m     sample_weight,\n\u001b[1;32m    621\u001b[0m     sample_mask,\n\u001b[1;32m    622\u001b[0m     random_state,\n\u001b[1;32m    623\u001b[0m     X_csc,\n\u001b[1;32m    624\u001b[0m     X_csr,\n\u001b[1;32m    625\u001b[0m )\n\u001b[1;32m    627\u001b[0m \u001b[39m# track deviance (= loss)\u001b[39;00m\n\u001b[1;32m    628\u001b[0m \u001b[39mif\u001b[39;00m do_oob:\n",
      "File \u001b[0;32m~/opt/anaconda3/envs/cv/lib/python3.10/site-packages/sklearn/ensemble/_gb.py:233\u001b[0m, in \u001b[0;36mBaseGradientBoosting._fit_stage\u001b[0;34m(self, i, X, y, raw_predictions, sample_weight, sample_mask, random_state, X_csc, X_csr)\u001b[0m\n\u001b[1;32m    230\u001b[0m \u001b[39mif\u001b[39;00m loss\u001b[39m.\u001b[39mis_multi_class:\n\u001b[1;32m    231\u001b[0m     y \u001b[39m=\u001b[39m np\u001b[39m.\u001b[39marray(original_y \u001b[39m==\u001b[39m k, dtype\u001b[39m=\u001b[39mnp\u001b[39m.\u001b[39mfloat64)\n\u001b[0;32m--> 233\u001b[0m residual \u001b[39m=\u001b[39m loss\u001b[39m.\u001b[39;49mnegative_gradient(\n\u001b[1;32m    234\u001b[0m     y, raw_predictions_copy, k\u001b[39m=\u001b[39;49mk, sample_weight\u001b[39m=\u001b[39;49msample_weight\n\u001b[1;32m    235\u001b[0m )\n\u001b[1;32m    237\u001b[0m \u001b[39m# induce regression tree on residuals\u001b[39;00m\n\u001b[1;32m    238\u001b[0m tree \u001b[39m=\u001b[39m DecisionTreeRegressor(\n\u001b[1;32m    239\u001b[0m     criterion\u001b[39m=\u001b[39m\u001b[39mself\u001b[39m\u001b[39m.\u001b[39mcriterion,\n\u001b[1;32m    240\u001b[0m     splitter\u001b[39m=\u001b[39m\u001b[39m\"\u001b[39m\u001b[39mbest\u001b[39m\u001b[39m\"\u001b[39m,\n\u001b[0;32m   (...)\u001b[0m\n\u001b[1;32m    249\u001b[0m     ccp_alpha\u001b[39m=\u001b[39m\u001b[39mself\u001b[39m\u001b[39m.\u001b[39mccp_alpha,\n\u001b[1;32m    250\u001b[0m )\n",
      "File \u001b[0;32m~/opt/anaconda3/envs/cv/lib/python3.10/site-packages/sklearn/ensemble/_gb_losses.py:824\u001b[0m, in \u001b[0;36mMultinomialDeviance.negative_gradient\u001b[0;34m(self, y, raw_predictions, k, **kwargs)\u001b[0m\n\u001b[1;32m    808\u001b[0m \u001b[39mdef\u001b[39;00m \u001b[39mnegative_gradient\u001b[39m(\u001b[39mself\u001b[39m, y, raw_predictions, k\u001b[39m=\u001b[39m\u001b[39m0\u001b[39m, \u001b[39m*\u001b[39m\u001b[39m*\u001b[39mkwargs):\n\u001b[1;32m    809\u001b[0m \u001b[39m    \u001b[39m\u001b[39m\"\"\"Compute negative gradient for the ``k``-th class.\u001b[39;00m\n\u001b[1;32m    810\u001b[0m \n\u001b[1;32m    811\u001b[0m \u001b[39m    Parameters\u001b[39;00m\n\u001b[0;32m   (...)\u001b[0m\n\u001b[1;32m    821\u001b[0m \u001b[39m        The index of the class.\u001b[39;00m\n\u001b[1;32m    822\u001b[0m \u001b[39m    \"\"\"\u001b[39;00m\n\u001b[1;32m    823\u001b[0m     \u001b[39mreturn\u001b[39;00m y \u001b[39m-\u001b[39m np\u001b[39m.\u001b[39mnan_to_num(\n\u001b[0;32m--> 824\u001b[0m         np\u001b[39m.\u001b[39mexp(raw_predictions[:, k] \u001b[39m-\u001b[39m logsumexp(raw_predictions, axis\u001b[39m=\u001b[39;49m\u001b[39m1\u001b[39;49m))\n\u001b[1;32m    825\u001b[0m     )\n",
      "File \u001b[0;32m~/opt/anaconda3/envs/cv/lib/python3.10/site-packages/scipy/special/_logsumexp.py:111\u001b[0m, in \u001b[0;36mlogsumexp\u001b[0;34m(a, axis, b, keepdims, return_sign)\u001b[0m\n\u001b[1;32m    109\u001b[0m     tmp \u001b[39m=\u001b[39m b \u001b[39m*\u001b[39m np\u001b[39m.\u001b[39mexp(a \u001b[39m-\u001b[39m a_max)\n\u001b[1;32m    110\u001b[0m \u001b[39melse\u001b[39;00m:\n\u001b[0;32m--> 111\u001b[0m     tmp \u001b[39m=\u001b[39m np\u001b[39m.\u001b[39;49mexp(a \u001b[39m-\u001b[39;49m a_max)\n\u001b[1;32m    113\u001b[0m \u001b[39m# suppress warnings about log of zero\u001b[39;00m\n\u001b[1;32m    114\u001b[0m \u001b[39mwith\u001b[39;00m np\u001b[39m.\u001b[39merrstate(divide\u001b[39m=\u001b[39m\u001b[39m'\u001b[39m\u001b[39mignore\u001b[39m\u001b[39m'\u001b[39m):\n",
      "\u001b[0;31mKeyboardInterrupt\u001b[0m: "
     ]
    }
   ],
   "source": [
    "def rmse(actual,prediction):\n",
    "    residuals = actual-prediction\n",
    "    return (np.sqrt(np.mean( residuals**2  )))\n",
    "\n",
    "nFolds = 5\n",
    "\n",
    "kf = KFold(n_splits=nFolds, random_state=None, shuffle=True)\n",
    "\n",
    "RMSEList = pd.DataFrame(columns = ['GBM_RMSE','XGB_RMSE','CATBOOST_RMSE'])\n",
    "RMSEList.GBM_RMSE = np.zeros(nFolds)\n",
    "RMSEList.XGB_RMSE = np.zeros(nFolds)\n",
    "RMSEList.CATBOOST_RMSE = np.zeros(nFolds)\n",
    "\n",
    "\n",
    "i=0\n",
    "for train_index, valid_index in kf.split(df_binned):\n",
    "    \n",
    "    train_cv = df_binned.iloc[train_index,:]\n",
    "    valid_cv = df_binned.iloc[valid_index,:]\n",
    "    \n",
    "    # GBM Model\n",
    "    modelGBM = GradientBoostingClassifier(n_estimators=154) #n_estimators denotes the number of trees that are constructed 155\n",
    "    GBtrain_cv = modelGBM.fit(train_cv.loc[:,features],train_cv['Venta Bruta '])\n",
    "    validProbsGB_cv  = GBtrain_cv.predict(valid_cv.loc[:,features])[:,1]\n",
    "    RMSEList.GBM_RMSE[i]= rmse(valid_cv['Venta Bruta '], validProbsGB_cv)  \n",
    "    \n",
    "    # XGB Model\n",
    "    XGBtraining = xgb.DMatrix(train_cv.loc[:,features], train_cv['Venta Bruta '])\n",
    "    XGBvalidation = xgb.DMatrix(valid_cv.loc[:,features], valid_cv['Venta Bruta '])\n",
    "\n",
    "    XGBparam = {'max_depth':6, 'eta': 0.02, 'objective': 'binary:logistic', 'min_child_weight': 1}\n",
    "    XGBparam['nthread'] = -1\n",
    "    XGBparam['eval_metric'] = 'rmse'\n",
    "    XGBparam['seed'] = 0\n",
    "    XGBparam['colsample_bytree'] = 0.5\n",
    "    XGBparam['subsample']=0.5\n",
    "    evallist = [(XGBtraining, 'train'), (XGBvalidation, 'eval')]\n",
    "\n",
    "    num_round = 215 # This is the number of iterations (trees) that are constructed\n",
    "    modelXGB = xgb.train(XGBparam, XGBtraining,num_round)\n",
    "    validationProbsXGB = modelXGB.predict(XGBvalidation)\n",
    "\n",
    "    RMSEList.XGB_RMSE[i]= rmse(valid_cv['Venta Bruta '], validationProbsXGB)  \n",
    "    \n",
    "    \n",
    "    # CatBoost Model\n",
    "    \n",
    "    modelCB = CatBoostClassifier(iterations=1000, learning_rate=0.069, depth=6, loss_function='Logloss', eval_metric='AUC', random_seed=32, od_type='Iter', metric_period=50)\n",
    "    modelCB.fit(train_cv.loc[:,features],train_cv['Venta Bruta '], \n",
    "                eval_set=(valid_cv.loc[:,features],valid_cv['Venta Bruta ']),\n",
    "                use_best_model=True, verbose=True)\n",
    "\n",
    "    #predict on test set\n",
    "    probsCB=modelCB.predict(valid_cv.loc[:,features])[:,1]\n",
    "\n",
    "    RMSEList.CATBOOST_RMSE[i]= rmse(valid_cv['Venta Bruta '], probsCB)  \n",
    "    \n",
    "    i = i + 1\n",
    "    print('Finished fold',i)"
   ]
  },
  {
   "attachments": {},
   "cell_type": "markdown",
   "metadata": {},
   "source": [
    "# PCA Analysis"
   ]
  },
  {
   "cell_type": "code",
   "execution_count": 6,
   "metadata": {},
   "outputs": [
    {
     "name": "stdout",
     "output_type": "stream",
     "text": [
      "Data shape = (134325, 23)\n",
      "max text length =  40\n"
     ]
    }
   ],
   "source": [
    "import numpy as np\n",
    "\n",
    "max_chunk = 100\n",
    "\n",
    "print('Data shape =',df.shape)\n",
    "\n",
    "# Get 200 rows only, and also taking the text column\n",
    "df = df.loc[0:500,:]\n",
    "\n",
    "max_text_len = df['Description'].apply(lambda x:len(x)).max()\n",
    "print('max text length = ',max_text_len)"
   ]
  },
  {
   "cell_type": "code",
   "execution_count": 7,
   "metadata": {},
   "outputs": [],
   "source": [
    "def get_max_len(tokenized):\n",
    "    max_len = 0\n",
    "    for i in tokenized.values:\n",
    "        if len(i) > max_len:\n",
    "            max_len = len(i)\n",
    "    return max_len\n",
    "\n",
    "def process_chunk(dtf_chunk):\n",
    "    import transformers as ppb\n",
    "    import torch\n",
    "    \n",
    "    #model_class, tokenizer_class, pretrained_weights = (ppb.DistilBertModel, ppb.DistilBertTokenizer, 'distilbert-base-uncased')\n",
    "    model_class, tokenizer_class, pretrained_weights = (ppb.BertModel, ppb.BertTokenizer, 'bert-base-uncased')\n",
    "    tokenizer = tokenizer_class.from_pretrained(pretrained_weights)\n",
    "    model = model_class.from_pretrained(pretrained_weights)\n",
    "    \n",
    "    tokenized = dtf_chunk['Description'].apply((lambda x: tokenizer.encode(x, add_special_tokens=True)))\n",
    "    \n",
    "    max_len = get_max_len(tokenized)\n",
    "    \n",
    "    if (max_len > 512):\n",
    "        print('Chunk has',max_len,'tokens,..., Aborting.')\n",
    "        features = -1\n",
    "    else: \n",
    "        padded = np.array([i + [0]*(max_len-len(i)) for i in tokenized.values])\n",
    "        attention_mask = np.where(padded != 0, 1, 0)\n",
    "        input_ids = torch.tensor(padded)\n",
    "        attention_mask = torch.tensor(attention_mask)\n",
    "        with torch.no_grad():\n",
    "            last_hidden_states = model(input_ids, attention_mask=attention_mask)\n",
    "        features = last_hidden_states[0][:,0,:].numpy()\n",
    "    \n",
    "    return features\n",
    "\n",
    "\n",
    "def get_chunks(max_text_len, chunk_len, dtf):\n",
    "\n",
    "    import transformers as ppb\n",
    "   \n",
    "    #model_class, tokenizer_class, pretrained_weights = (ppb.DistilBertModel, ppb.DistilBertTokenizer, 'distilbert-base-uncased')\n",
    "    model_class, tokenizer_class, pretrained_weights = (ppb.BertModel, ppb.BertTokenizer, 'bert-base-uncased')\n",
    "    tokenizer = tokenizer_class.from_pretrained(pretrained_weights)\n",
    "    \n",
    "    cuts = np.arange(0,max_text_len,chunk_len)\n",
    "    token_dic ={}\n",
    "    max_len_dic = {}\n",
    "    chunk_dic = {}\n",
    "    i = 0\n",
    "    max_all = 0\n",
    "    for c in cuts:\n",
    "     \n",
    "        name = 'chunk_'+str(i)\n",
    "        chunk_dic[name] = pd.DataFrame(dtf['Description'].apply(lambda x: x[c:c+chunk_len]))\n",
    "        token_dic[name] = dtf['Description'].apply((lambda x: tokenizer.encode(x[c:c+chunk_len], add_special_tokens=True)))\n",
    "        max_len_dic[name] = get_max_len(token_dic[name])\n",
    "        if (max_len_dic[name]>max_all):\n",
    "            max_all = max_len_dic[name]\n",
    "        print(name,', starting at character',c,'has len',max_len_dic[name])\n",
    "        i = i + 1\n",
    "    print(i,'Chunks created with max len =',max_all)   \n",
    "    \n",
    "    return chunk_dic, max_all"
   ]
  },
  {
   "cell_type": "code",
   "execution_count": 8,
   "metadata": {},
   "outputs": [
    {
     "name": "stdout",
     "output_type": "stream",
     "text": [
      "chunk_0 , starting at character 0 has len 23\n",
      "1 Chunks created with max len = 23\n"
     ]
    }
   ],
   "source": [
    "chunk_len = 1000\n",
    "chunk_dic, max_all = get_chunks(max_text_len, chunk_len, df)"
   ]
  },
  {
   "cell_type": "code",
   "execution_count": 9,
   "metadata": {},
   "outputs": [
    {
     "name": "stderr",
     "output_type": "stream",
     "text": [
      "Some weights of the model checkpoint at bert-base-uncased were not used when initializing BertModel: ['cls.seq_relationship.bias', 'cls.predictions.bias', 'cls.predictions.transform.LayerNorm.weight', 'cls.predictions.transform.dense.weight', 'cls.predictions.transform.dense.bias', 'cls.predictions.transform.LayerNorm.bias', 'cls.predictions.decoder.weight', 'cls.seq_relationship.weight']\n",
      "- This IS expected if you are initializing BertModel from the checkpoint of a model trained on another task or with another architecture (e.g. initializing a BertForSequenceClassification model from a BertForPreTraining model).\n",
      "- This IS NOT expected if you are initializing BertModel from the checkpoint of a model that you expect to be exactly identical (initializing a BertForSequenceClassification model from a BertForSequenceClassification model).\n"
     ]
    },
    {
     "name": "stdout",
     "output_type": "stream",
     "text": [
      "Finished processing chunk_0\n"
     ]
    }
   ],
   "source": [
    "feature_dic = {}\n",
    "for key,value in chunk_dic.items():\n",
    "    features = process_chunk(value)\n",
    "    feature_dic[key] = features\n",
    "    print('Finished processing', key)\n",
    "    #break"
   ]
  },
  {
   "cell_type": "code",
   "execution_count": 10,
   "metadata": {},
   "outputs": [
    {
     "data": {
      "text/plain": [
       "{'chunk_0': array([[-0.30656192,  0.01071327, -0.14009637, ..., -0.33770236,\n",
       "          0.5350313 ,  0.2001602 ],\n",
       "        [-0.42189708, -0.04030982, -0.15456718, ..., -0.26616308,\n",
       "          0.21037348,  0.6568876 ],\n",
       "        [-0.18184775,  0.1952407 , -0.14342748, ..., -0.09776845,\n",
       "          0.00968198,  0.58007437],\n",
       "        ...,\n",
       "        [-0.5917254 , -0.3388026 , -0.02445068, ..., -0.24933699,\n",
       "          0.28460535,  1.0703824 ],\n",
       "        [-0.48772153, -0.20796952, -0.09905994, ..., -0.20540196,\n",
       "          0.1723298 ,  0.94894046],\n",
       "        [-0.5687866 , -0.3771329 , -0.05704188, ..., -0.1931249 ,\n",
       "          0.17846146,  0.9876077 ]], dtype=float32)}"
      ]
     },
     "execution_count": 10,
     "metadata": {},
     "output_type": "execute_result"
    }
   ],
   "source": [
    "feature_dic"
   ]
  },
  {
   "cell_type": "code",
   "execution_count": 11,
   "metadata": {},
   "outputs": [
    {
     "data": {
      "text/plain": [
       "(501, 768)"
      ]
     },
     "execution_count": 11,
     "metadata": {},
     "output_type": "execute_result"
    }
   ],
   "source": [
    "feature_dic['chunk_0'].shape"
   ]
  },
  {
   "attachments": {},
   "cell_type": "markdown",
   "metadata": {},
   "source": [
    "## Calculate SVD"
   ]
  },
  {
   "cell_type": "code",
   "execution_count": 12,
   "metadata": {},
   "outputs": [
    {
     "data": {
      "text/plain": [
       "(501, 768)"
      ]
     },
     "execution_count": 12,
     "metadata": {},
     "output_type": "execute_result"
    }
   ],
   "source": [
    "features = feature_dic['chunk_0']\n",
    "for key,value in chunk_dic.items():\n",
    "    if (key!='chunk_0'):\n",
    "        features = np.concatenate((features,feature_dic[key]),axis=1)\n",
    "pd.DataFrame(features).to_csv('full_realbert_feat_additional_feedback.csv',header=False,index=False)\n",
    "features.shape"
   ]
  },
  {
   "cell_type": "code",
   "execution_count": 13,
   "metadata": {},
   "outputs": [
    {
     "data": {
      "image/png": "[encoded data removed]",
      "text/plain": [
       "<Figure size 640x480 with 1 Axes>"
      ]
     },
     "metadata": {},
     "output_type": "display_data"
    },
    {
     "data": {
      "image/png": "[encoded data removed]",
      "text/plain": [
       "<Figure size 1000x1000 with 1 Axes>"
      ]
     },
     "metadata": {},
     "output_type": "display_data"
    }
   ],
   "source": [
    "import matplotlib.pyplot as plt\n",
    "\n",
    "u,s,vh = np.linalg.svd(features)\n",
    "plt.plot(np.log(s))\n",
    "#show grid lines\n",
    "plt.grid()\n",
    "\n",
    "#zoom in first 25 and make plot bigger\n",
    "\n",
    "plt.figure(figsize=(10,10))\n",
    "plt.plot(np.log(s[0:25]))\n",
    "plt.grid()\n"
   ]
  },
  {
   "cell_type": "code",
   "execution_count": 14,
   "metadata": {},
   "outputs": [
    {
     "name": "stdout",
     "output_type": "stream",
     "text": [
      "Finished\n"
     ]
    }
   ],
   "source": [
    "pd.DataFrame(u[:,0:20]).to_csv('Feat_REAL_BERT_Description.csv',index=False,header=False) \n",
    "\n",
    "print('Finished')  "
   ]
  }
 ],
 "metadata": {
  "kernelspec": {
   "display_name": "cv",
   "language": "python",
   "name": "python3"
  },
  "language_info": {
   "codemirror_mode": {
    "name": "ipython",
    "version": 3
   },
   "file_extension": ".py",
   "mimetype": "text/x-python",
   "name": "python",
   "nbconvert_exporter": "python",
   "pygments_lexer": "ipython3",
   "version": "3.10.9"
  },
  "orig_nbformat": 4
 },
 "nbformat": 4,
 "nbformat_minor": 2
}
